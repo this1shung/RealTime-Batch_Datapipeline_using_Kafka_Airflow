{
 "cells": [
  {
   "cell_type": "code",
   "execution_count": 1,
   "metadata": {},
   "outputs": [],
   "source": [
    "import os\n",
    "import time\n",
    "import datetime\n",
    "import pyspark.sql.functions as sf\n",
    "from uuid import *\n",
    "from pyspark.sql import SparkSession\n",
    "from pyspark.sql import SQLContext\n",
    "from pyspark.sql.functions import when\n",
    "from pyspark.sql.functions import col\n",
    "from pyspark.sql.types import *\n",
    "from pyspark.sql.functions import lit\n",
    "from pyspark import SparkConf, SparkContext\n",
    "from uuid import * \n",
    "from uuid import UUID\n",
    "import time_uuid \n",
    "from pyspark.sql import Row\n",
    "from pyspark.sql.functions import udf\n",
    "from pyspark.sql.functions import monotonically_increasing_id\n",
    "from pyspark.sql.window import Window as W"
   ]
  },
  {
   "cell_type": "code",
   "execution_count": 2,
   "metadata": {},
   "outputs": [],
   "source": [
    "spark = SparkSession.builder.config('spark.jars.packages','com.datastax.spark:spark-cassandra-connector_2.12:3.1.0').getOrCreate()"
   ]
  },
  {
   "cell_type": "code",
   "execution_count": 19,
   "metadata": {},
   "outputs": [],
   "source": [
    "def get_latest_etl_time():\n",
    "    df = spark.read.format(\"org.apache.spark.sql.cassandra\").options(table= \"cdc_tracking\", keyspace='netflix_keyspace').load()\n",
    "    latest_etl_time = df.agg({'last_etl_time':'max'}).take(1)[0][0]\n",
    "    return latest_etl_time if latest_etl_time else None"
   ]
  },
  {
   "cell_type": "code",
   "execution_count": 20,
   "metadata": {},
   "outputs": [],
   "source": [
    "def get_latest_data_time():\n",
    "    data = spark.read.format(\"org.apache.spark.sql.cassandra\").options(table='user_search_history', keyspace='netflix_keyspace').load()\n",
    "    cassandra_latest_time = data.agg({'createdat':'max'}).take(1)[0][0]\n",
    "    return cassandra_latest_time if cassandra_latest_time else None"
   ]
  },
  {
   "cell_type": "code",
   "execution_count": 21,
   "metadata": {},
   "outputs": [],
   "source": [
    "latest_cas_time = get_latest_data_time()\n",
    "latest_etl_time = get_latest_etl_time()"
   ]
  },
  {
   "cell_type": "code",
   "execution_count": 26,
   "metadata": {},
   "outputs": [
    {
     "name": "stdout",
     "output_type": "stream",
     "text": [
      "2024-09-21 03:12:45.202000\n"
     ]
    }
   ],
   "source": [
    "print(latest_cas_time)"
   ]
  },
  {
   "cell_type": "code",
   "execution_count": 24,
   "metadata": {},
   "outputs": [],
   "source": [
    "latest_etl_time"
   ]
  },
  {
   "cell_type": "code",
   "execution_count": 28,
   "metadata": {},
   "outputs": [
    {
     "name": "stdout",
     "output_type": "stream",
     "text": [
      "CDC tracking is empty. Running main task for the first load.\n"
     ]
    }
   ],
   "source": [
    "if latest_etl_time is None:\n",
    "    print(\"CDC tracking is empty. Running main task for the first load.\")\n",
    "else:\n",
    "    if latest_cas_time and latest_etl_time:\n",
    "        if latest_cas_time  > latest_etl_time:\n",
    "            print(\"Running main task: new data found.\")\n",
    "        else:\n",
    "            print(\"No new data found.\")\n",
    "    else:\n",
    "        print(\"One of the timestamps is None.\")"
   ]
  },
  {
   "cell_type": "code",
   "execution_count": null,
   "metadata": {},
   "outputs": [],
   "source": [
    "def maintask(latest_etl_time):\n",
    "    if latest_etl_time is None:\n",
    "        df = spark.read.format(\"org.apache.spark.sql.cassandra\") \\\n",
    "        .options(table='user_search_history', keyspace='netflix_keyspace') \\\n",
    "        .load()\n",
    "    else:\n",
    "        df = spark.read.format(\"org.apache.spark.sql.cassandra\") \\\n",
    "        .options(table='user_search_history', keyspace='netflix_keyspace') \\\n",
    "        .load().where(col('createdat') >= latest_etl_time)\n",
    "\n",
    "\n",
    "    "
   ]
  },
  {
   "cell_type": "code",
   "execution_count": 32,
   "metadata": {},
   "outputs": [],
   "source": [
    "if latest_etl_time is None:\n",
    "    # If latest_etl_time is None, load all records\n",
    "    df = spark.read.format(\"org.apache.spark.sql.cassandra\") \\\n",
    "        .options(table='user_search_history', keyspace='netflix_keyspace') \\\n",
    "        .load()\n",
    "else:\n",
    "    # Filter records based on latest_etl_time\n",
    "    df = spark.read.format(\"org.apache.spark.sql.cassandra\") \\\n",
    "        .options(table='user_search_history', keyspace='netflix_keyspace') \\\n",
    "        .load().where(col('createdat') >= latest_etl_time)"
   ]
  },
  {
   "cell_type": "code",
   "execution_count": 33,
   "metadata": {},
   "outputs": [
    {
     "name": "stdout",
     "output_type": "stream",
     "text": [
      "+--------------------+--------------------+--------------------+------------------+----------+\n",
      "|              userid|           createdat| cassandra_timestamp|           keyword|searchtype|\n",
      "+--------------------+--------------------+--------------------+------------------+----------+\n",
      "|66ed749093aab795b...|2024-09-21 03:11:...|2024-09-20 20:12:...|       the witcher|        tv|\n",
      "|66ed749093aab795b...|2024-09-21 03:11:...|2024-09-20 20:12:...|         chernobyl|        tv|\n",
      "|66ed749093aab795b...|2024-09-21 03:11:...|2024-09-20 20:12:...|         brad pitt|    person|\n",
      "|66ed749093aab795b...|2024-09-21 03:11:...|2024-09-20 20:12:...|  the walking dead|        tv|\n",
      "|66ed749093aab795b...|2024-09-21 03:11:...|2024-09-20 20:12:...|           mad max|     movie|\n",
      "|66ed749093aab795b...|2024-09-21 03:11:...|2024-09-20 20:12:...|  the walking dead|        tv|\n",
      "|66ed749093aab795b...|2024-09-21 03:11:...|2024-09-20 20:12:...|        the office|        tv|\n",
      "|66ea83e5b3b49e715...|2024-09-18 21:40:...|2024-09-18 14:40:...|             fargo|        tv|\n",
      "|66ea83e5b3b49e715...|2024-09-18 21:40:...|2024-09-18 14:40:...|    rick and morty|        tv|\n",
      "|66ea83e5b3b49e715...|2024-09-18 21:40:...|2024-09-18 14:40:...|     the lion king|     movie|\n",
      "|66ea83e5b3b49e715...|2024-09-18 21:40:...|2024-09-18 14:40:...| leonardo dicaprio|    person|\n",
      "|66ea83e5b3b49e715...|2024-09-18 21:40:...|2024-09-18 14:40:...|    dwayne johnson|    person|\n",
      "|66ea83e5b3b49e715...|2024-09-18 21:40:...|2024-09-18 14:40:...|     margot robbie|    person|\n",
      "|66ea83e5b3b49e715...|2024-09-18 21:40:...|2024-09-18 14:40:...| avengers: endgame|     movie|\n",
      "|66ea83e5b3b49e715...|2024-09-18 21:40:...|2024-09-18 14:40:...|   stranger things|        tv|\n",
      "|66ea83e5b3b49e715...|2024-09-18 21:40:...|2024-09-18 14:40:...|         brad pitt|    person|\n",
      "|66ea83e5b3b49e715...|2024-09-18 21:40:...|2024-09-18 14:40:...|         brad pitt|    person|\n",
      "|66ea83e7b3b49e715...|2024-09-18 21:40:...|2024-09-18 14:40:...|the social network|     movie|\n",
      "|66ea83e7b3b49e715...|2024-09-18 21:40:...|2024-09-18 14:40:...|       johnny depp|    person|\n",
      "|66ea83e7b3b49e715...|2024-09-18 21:40:...|2024-09-18 14:40:...|     the lion king|     movie|\n",
      "+--------------------+--------------------+--------------------+------------------+----------+\n",
      "only showing top 20 rows\n",
      "\n"
     ]
    }
   ],
   "source": [
    "df.show()"
   ]
  },
  {
   "cell_type": "code",
   "execution_count": 34,
   "metadata": {},
   "outputs": [],
   "source": [
    "from pyspark.sql.functions import col, year, month, dayofmonth"
   ]
  },
  {
   "cell_type": "code",
   "execution_count": 35,
   "metadata": {},
   "outputs": [],
   "source": [
    "df = df.withColumn(\"year\",year(col(\"createdat\")))\\\n",
    "        .withColumn(\"month\",month(col(\"createdat\")))\\\n",
    "        .withColumn(\"day\",dayofmonth(col(\"createdat\")))"
   ]
  },
  {
   "cell_type": "code",
   "execution_count": 36,
   "metadata": {},
   "outputs": [
    {
     "name": "stdout",
     "output_type": "stream",
     "text": [
      "+--------------------+--------------------+--------------------+-------------------+----------+----+-----+---+\n",
      "|              userid|           createdat| cassandra_timestamp|            keyword|searchtype|year|month|day|\n",
      "+--------------------+--------------------+--------------------+-------------------+----------+----+-----+---+\n",
      "|66ea83e7b3b49e715...|2024-09-18 21:40:...|2024-09-18 14:40:...| the social network|     movie|2024|    9| 18|\n",
      "|66ea83e7b3b49e715...|2024-09-18 21:40:...|2024-09-18 14:40:...|        johnny depp|    person|2024|    9| 18|\n",
      "|66ea83e7b3b49e715...|2024-09-18 21:40:...|2024-09-18 14:40:...|      the lion king|     movie|2024|    9| 18|\n",
      "|66ea83e7b3b49e715...|2024-09-18 21:40:...|2024-09-18 14:40:...|       breaking bad|        tv|2024|    9| 18|\n",
      "|66ea83e7b3b49e715...|2024-09-18 21:40:...|2024-09-18 14:40:...|the big bang theory|        tv|2024|    9| 18|\n",
      "|66ea83e7b3b49e715...|2024-09-18 21:40:...|2024-09-18 14:40:...|    natalie portman|    person|2024|    9| 18|\n",
      "|66ea83e7b3b49e715...|2024-09-18 21:40:...|2024-09-18 14:40:...|         will smith|    person|2024|    9| 18|\n",
      "|66ea83e7b3b49e715...|2024-09-18 21:40:...|2024-09-18 14:40:...|       hugh jackman|    person|2024|    9| 18|\n",
      "|66ea83e7b3b49e715...|2024-09-18 21:40:...|2024-09-18 14:40:...|         tom cruise|    person|2024|    9| 18|\n",
      "|66ed748493aab795b...|2024-09-21 03:11:...|2024-09-20 20:12:...|    natalie portman|    person|2024|    9| 21|\n",
      "|66ed748493aab795b...|2024-09-21 03:11:...|2024-09-20 20:11:...|      margot robbie|    person|2024|    9| 21|\n",
      "|66ed748493aab795b...|2024-09-21 03:11:...|2024-09-20 20:11:...|         mindhunter|        tv|2024|    9| 21|\n",
      "|66ed748493aab795b...|2024-09-21 03:11:...|2024-09-20 20:11:...|             narcos|        tv|2024|    9| 21|\n",
      "|66ed748493aab795b...|2024-09-21 03:11:...|2024-09-20 20:11:...|          chernobyl|        tv|2024|    9| 21|\n",
      "|66ed748493aab795b...|2024-09-21 03:11:...|2024-09-20 20:11:...|   schindler's list|     movie|2024|    9| 21|\n",
      "|66ed748493aab795b...|2024-09-21 03:11:...|2024-09-20 20:11:...|            mad max|     movie|2024|    9| 21|\n",
      "|66ed748493aab795b...|2024-09-21 03:11:...|2024-09-20 20:11:...|saving private ryan|     movie|2024|    9| 21|\n",
      "|66ed748493aab795b...|2024-09-21 03:11:...|2024-09-20 20:11:...|         mindhunter|        tv|2024|    9| 21|\n",
      "|66ea83e5b3b49e715...|2024-09-18 21:40:...|2024-09-18 14:40:...|              fargo|        tv|2024|    9| 18|\n",
      "|66ea83e5b3b49e715...|2024-09-18 21:40:...|2024-09-18 14:40:...|     rick and morty|        tv|2024|    9| 18|\n",
      "+--------------------+--------------------+--------------------+-------------------+----------+----+-----+---+\n",
      "only showing top 20 rows\n",
      "\n"
     ]
    }
   ],
   "source": [
    "df.show()"
   ]
  },
  {
   "cell_type": "code",
   "execution_count": 37,
   "metadata": {},
   "outputs": [],
   "source": [
    "final_df = df.drop(\"cassandra_timestamp\")"
   ]
  },
  {
   "cell_type": "code",
   "execution_count": 38,
   "metadata": {},
   "outputs": [
    {
     "name": "stdout",
     "output_type": "stream",
     "text": [
      "+--------------------+--------------------+-------------------+----------+----+-----+---+\n",
      "|              userid|           createdat|            keyword|searchtype|year|month|day|\n",
      "+--------------------+--------------------+-------------------+----------+----+-----+---+\n",
      "|66ed748493aab795b...|2024-09-21 03:11:...|    natalie portman|    person|2024|    9| 21|\n",
      "|66ed748493aab795b...|2024-09-21 03:11:...|      margot robbie|    person|2024|    9| 21|\n",
      "|66ed748493aab795b...|2024-09-21 03:11:...|         mindhunter|        tv|2024|    9| 21|\n",
      "|66ed748493aab795b...|2024-09-21 03:11:...|             narcos|        tv|2024|    9| 21|\n",
      "|66ed748493aab795b...|2024-09-21 03:11:...|          chernobyl|        tv|2024|    9| 21|\n",
      "|66ed748493aab795b...|2024-09-21 03:11:...|   schindler's list|     movie|2024|    9| 21|\n",
      "|66ed748493aab795b...|2024-09-21 03:11:...|            mad max|     movie|2024|    9| 21|\n",
      "|66ed748493aab795b...|2024-09-21 03:11:...|saving private ryan|     movie|2024|    9| 21|\n",
      "|66ed748493aab795b...|2024-09-21 03:11:...|         mindhunter|        tv|2024|    9| 21|\n",
      "|66ed749093aab795b...|2024-09-21 03:11:...|        the witcher|        tv|2024|    9| 21|\n",
      "|66ed749093aab795b...|2024-09-21 03:11:...|          chernobyl|        tv|2024|    9| 21|\n",
      "|66ed749093aab795b...|2024-09-21 03:11:...|          brad pitt|    person|2024|    9| 21|\n",
      "|66ed749093aab795b...|2024-09-21 03:11:...|   the walking dead|        tv|2024|    9| 21|\n",
      "|66ed749093aab795b...|2024-09-21 03:11:...|            mad max|     movie|2024|    9| 21|\n",
      "|66ed749093aab795b...|2024-09-21 03:11:...|   the walking dead|        tv|2024|    9| 21|\n",
      "|66ed749093aab795b...|2024-09-21 03:11:...|         the office|        tv|2024|    9| 21|\n",
      "|66ea83e5b3b49e715...|2024-09-18 21:40:...|              fargo|        tv|2024|    9| 18|\n",
      "|66ea83e5b3b49e715...|2024-09-18 21:40:...|     rick and morty|        tv|2024|    9| 18|\n",
      "|66ea83e5b3b49e715...|2024-09-18 21:40:...|      the lion king|     movie|2024|    9| 18|\n",
      "|66ea83e5b3b49e715...|2024-09-18 21:40:...|  leonardo dicaprio|    person|2024|    9| 18|\n",
      "+--------------------+--------------------+-------------------+----------+----+-----+---+\n",
      "only showing top 20 rows\n",
      "\n"
     ]
    }
   ],
   "source": [
    "final_df.show()"
   ]
  },
  {
   "cell_type": "code",
   "execution_count": 39,
   "metadata": {},
   "outputs": [],
   "source": [
    "final_df.write.partitionBy('year','month','day').mode('append').format('parquet').save(\"D:\\PROJECT\\RealTime-Batch_Datapipeline_using_Kafka_Airflow\\Data\")"
   ]
  },
  {
   "cell_type": "code",
   "execution_count": 40,
   "metadata": {},
   "outputs": [],
   "source": [
    "etl_time = final_df.agg({'createdat':'max'}).take(1)[0][0]"
   ]
  },
  {
   "cell_type": "code",
   "execution_count": 42,
   "metadata": {},
   "outputs": [],
   "source": [
    "count = final_df.count()"
   ]
  },
  {
   "cell_type": "code",
   "execution_count": 48,
   "metadata": {},
   "outputs": [],
   "source": [
    "data = [Row(id = 1001, last_etl_time=etl_time, num_records_processed=count)]\n",
    "df_cas = spark.createDataFrame(data)"
   ]
  },
  {
   "cell_type": "code",
   "execution_count": 49,
   "metadata": {},
   "outputs": [
    {
     "name": "stdout",
     "output_type": "stream",
     "text": [
      "+----+--------------------+---------------------+\n",
      "|  id|       last_etl_time|num_records_processed|\n",
      "+----+--------------------+---------------------+\n",
      "|1001|2024-09-21 03:12:...|                   50|\n",
      "+----+--------------------+---------------------+\n",
      "\n"
     ]
    }
   ],
   "source": [
    "df_cas.show()"
   ]
  },
  {
   "cell_type": "code",
   "execution_count": 50,
   "metadata": {},
   "outputs": [],
   "source": [
    "df_cas.write.format(\"org.apache.spark.sql.cassandra\").options(table=\"cdc_tracking\", keyspace=\"netflix_keyspace\").mode(\"append\").save()"
   ]
  },
  {
   "cell_type": "code",
   "execution_count": 51,
   "metadata": {},
   "outputs": [],
   "source": [
    "latest_cas_time = get_latest_data_time()\n",
    "latest_etl_time = get_latest_etl_time()"
   ]
  },
  {
   "cell_type": "code",
   "execution_count": 52,
   "metadata": {},
   "outputs": [
    {
     "name": "stdout",
     "output_type": "stream",
     "text": [
      "No new data found.\n"
     ]
    }
   ],
   "source": [
    "if latest_etl_time is None:\n",
    "    print(\"CDC tracking is empty. Running main task for the first load.\")\n",
    "else:\n",
    "    if latest_cas_time and latest_etl_time:\n",
    "        if latest_cas_time  > latest_etl_time:\n",
    "            print(\"Running main task: new data found.\")\n",
    "        else:\n",
    "            print(\"No new data found.\")\n",
    "    else:\n",
    "        print(\"One of the timestamps is None.\")"
   ]
  },
  {
   "cell_type": "code",
   "execution_count": null,
   "metadata": {},
   "outputs": [],
   "source": []
  },
  {
   "cell_type": "code",
   "execution_count": null,
   "metadata": {},
   "outputs": [],
   "source": []
  }
 ],
 "metadata": {
  "kernelspec": {
   "display_name": "base",
   "language": "python",
   "name": "python3"
  },
  "language_info": {
   "codemirror_mode": {
    "name": "ipython",
    "version": 3
   },
   "file_extension": ".py",
   "mimetype": "text/x-python",
   "name": "python",
   "nbconvert_exporter": "python",
   "pygments_lexer": "ipython3",
   "version": "3.11.5"
  }
 },
 "nbformat": 4,
 "nbformat_minor": 2
}
